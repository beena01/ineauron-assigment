{
 "cells": [
  {
   "cell_type": "markdown",
   "metadata": {},
   "source": [
    "1.1 Write a Python Program(with class concepts) to find the area of the triangle using the below formula. area = (s(s-a)(s-b)(s-c)) * 0.5 Function to take the length of the sides of triangle from user should be defined in the parent class and function to calculate the area should be defined in subclass"
   ]
  },
  {
   "cell_type": "code",
   "execution_count": 47,
   "metadata": {
    "scrolled": false
   },
   "outputs": [
    {
     "name": "stdout",
     "output_type": "stream",
     "text": [
      "Intialised Triangle class :[3, 4, 5]\n",
      "\"S\" in the Triangle 6.0\n",
      "Area of the Triangle:  6.0\n"
     ]
    }
   ],
   "source": [
    "class Triangle:\n",
    "    def __init__(self,side1,side2,side3):\n",
    "        self.side1=side1\n",
    "        self.side2=side2\n",
    "        self.side3=side3\n",
    "        print('Intialised Triangle class :[' + str(side1) + ', ' +  str(side2) + ', ' +str(side3) +']')\n",
    "        \n",
    "class InnerTriangle(Triangle):\n",
    "    def __init__(self,side1,side2,side3):\n",
    "        super(InnerTriangle,self).__init__(side1,side2,side3)\n",
    "        \n",
    "    def cal_area(self):\n",
    "        s=(self.side1+self.side2+self.side3)/2\n",
    "        print('\"S\" in the Triangle', s)\n",
    "        return (s*(s-self.side1)*(s-self.side2)*(s-self.side3)) ** 0.5\n",
    "            \n",
    "            \n",
    "Area1=InnerTriangle(3,4,5)\n",
    "print(\"Area of the Triangle: \",str(Area1.cal_area()))    "
   ]
  },
  {
   "cell_type": "markdown",
   "metadata": {},
   "source": [
    "1.2 Write a function filter_long_words() that takes a list of words and an integer n and returns the list of words that are longer than n."
   ]
  },
  {
   "cell_type": "code",
   "execution_count": 48,
   "metadata": {},
   "outputs": [
    {
     "name": "stdout",
     "output_type": "stream",
     "text": [
      "words longer than 3 : ['This', 'beautiful']\n"
     ]
    }
   ],
   "source": [
    "def filter_long_words(list1,num):\n",
    "    l=[]\n",
    "    l=list(i for i in list1 if len(i)>num)\n",
    "    print ('words longer than {} :'.format(num),l)\n",
    "    return l\n",
    "\n",
    "A=filter_long_words([\"This\",\"is\",\"a\",\"beautiful\",\"day\"],3)\n"
   ]
  },
  {
   "cell_type": "markdown",
   "metadata": {},
   "source": [
    "2.1 Write a Python program using function concept that maps list of words into a list of integers representing the lengths of the corresponding words. Hint: If a list [ ab,cde,erty] is passed on to the python function output should come as [2,3,4] Here 2,3 and 4 are the lengths of the words in the list.\n"
   ]
  },
  {
   "cell_type": "code",
   "execution_count": 49,
   "metadata": {},
   "outputs": [
    {
     "name": "stdout",
     "output_type": "stream",
     "text": [
      "count of the words in list [1, 2, 6]\n"
     ]
    }
   ],
   "source": [
    "def count_words(list1):\n",
    "    l=[]\n",
    "    l=list(len(i) for i in list1 )\n",
    "    print ('count of the words in list',l)\n",
    "    return l\n",
    "\n",
    "A=count_words(['r','rr','reddas'])"
   ]
  },
  {
   "cell_type": "markdown",
   "metadata": {},
   "source": [
    "2.2 Write a Python function which takes a character (i.e. a string of length 1) and returns True if it is a vowel, False otherwise."
   ]
  },
  {
   "cell_type": "code",
   "execution_count": 16,
   "metadata": {},
   "outputs": [],
   "source": [
    "Vowels='a e i o u'\n",
    "def check_For_vowel(char):      \n",
    "        l=list(map(lambda i: True if(i in Vowels) else False,char.casefold()))\n",
    "        return l"
   ]
  },
  {
   "cell_type": "code",
   "execution_count": 50,
   "metadata": {},
   "outputs": [
    {
     "name": "stdout",
     "output_type": "stream",
     "text": [
      "Please provide the char :b\n",
      "char is not vowel\n"
     ]
    }
   ],
   "source": [
    "Result=check_For_vowel(input('Please provide the char :'))\n",
    "for ctr in Result:\n",
    "    if ctr==True:\n",
    "        print('char is vowel')\n",
    "    else:\n",
    "        print('char is not vowel')"
   ]
  },
  {
   "cell_type": "code",
   "execution_count": null,
   "metadata": {},
   "outputs": [],
   "source": []
  },
  {
   "cell_type": "code",
   "execution_count": null,
   "metadata": {},
   "outputs": [],
   "source": []
  }
 ],
 "metadata": {
  "kernelspec": {
   "display_name": "Python 3",
   "language": "python",
   "name": "python3"
  },
  "language_info": {
   "codemirror_mode": {
    "name": "ipython",
    "version": 3
   },
   "file_extension": ".py",
   "mimetype": "text/x-python",
   "name": "python",
   "nbconvert_exporter": "python",
   "pygments_lexer": "ipython3",
   "version": "3.7.4"
  }
 },
 "nbformat": 4,
 "nbformat_minor": 2
}
